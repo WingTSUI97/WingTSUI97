{
 "cells": [
  {
   "cell_type": "markdown",
   "id": "f70c3cf1",
   "metadata": {},
   "source": [
    "# Introduction"
   ]
  },
  {
   "cell_type": "markdown",
   "id": "d882fdf9",
   "metadata": {},
   "source": [
    "## Final Year Project: VL02_AI-Assisted PCB Prototyping using Laser Engraving （2022-2023）\n",
    "This project aim to demostrate the research and application of my Final Year Project done at Hong Kong University of Science and Technology at 2022-2023.   \n",
    "\n",
    "The goal of this project is to utilize the computer vision with CNN model and OpenCV to solve low alignment accuracy due to manual or machine adjustment."
   ]
  },
  {
   "cell_type": "markdown",
   "id": "1531938e",
   "metadata": {},
   "source": [
    "# Background & Motivation\n",
    "\n",
    "PCB making usually requires companies from the mainland, it requires a lot of time for\n",
    "transportation to turn-around. If we can create a PCB in house, it can substantially reduce production time and cost\n",
    "as each board costs at least USD$10-50. <br><br>\n",
    "However, creating a PCB without the vocational requirements from the\n",
    "companies eventually leads to low accuracy of the board. <br><br>This Project aims to provide high accuracy home-made\n",
    "double-sided PCB prototyping with AI-assist.\n",
    "\n",
    "## Challenge\n",
    "* Engineering Problem: Homemade PCB has lower precision <br>\n",
    "The problem with homemade PCB is that it can never have the same precision compared with lab or factory\n",
    "PCB. As equipment homemade is limited, the outcome quality is limited as well. Professional equipment in the\n",
    "lab or industry will be lacking such as drill machines, laser printers. For example, the etching process requires\n",
    "precise time and temperature control, however it may not be effectively done in a homemade environment\n",
    "according to equipment issues. Such concludes the matter of homemade PCB having lower precision than\n",
    "industry produced PCB."
   ]
  },
  {
   "cell_type": "markdown",
   "id": "024c4591",
   "metadata": {},
   "source": [
    "# Model Architecture"
   ]
  },
  {
   "cell_type": "code",
   "execution_count": null,
   "id": "d759b426",
   "metadata": {},
   "outputs": [],
   "source": []
  },
  {
   "cell_type": "code",
   "execution_count": null,
   "id": "aaaf1cb6",
   "metadata": {},
   "outputs": [],
   "source": []
  },
  {
   "cell_type": "code",
   "execution_count": null,
   "id": "ad41ae52",
   "metadata": {},
   "outputs": [],
   "source": []
  },
  {
   "cell_type": "code",
   "execution_count": null,
   "id": "7d618204",
   "metadata": {},
   "outputs": [],
   "source": []
  },
  {
   "cell_type": "markdown",
   "id": "e6f66804",
   "metadata": {},
   "source": [
    "# Training & Evaluation"
   ]
  },
  {
   "cell_type": "code",
   "execution_count": null,
   "id": "73fce059",
   "metadata": {},
   "outputs": [],
   "source": []
  },
  {
   "cell_type": "code",
   "execution_count": null,
   "id": "55e959e5",
   "metadata": {},
   "outputs": [],
   "source": []
  },
  {
   "cell_type": "code",
   "execution_count": null,
   "id": "841f8d50",
   "metadata": {},
   "outputs": [],
   "source": []
  },
  {
   "cell_type": "code",
   "execution_count": null,
   "id": "e2d0049e",
   "metadata": {},
   "outputs": [],
   "source": []
  },
  {
   "cell_type": "markdown",
   "id": "6b693b89",
   "metadata": {},
   "source": [
    "# Results & Visualization"
   ]
  },
  {
   "cell_type": "code",
   "execution_count": null,
   "id": "ea043bad",
   "metadata": {},
   "outputs": [],
   "source": []
  },
  {
   "cell_type": "code",
   "execution_count": null,
   "id": "f20e267d",
   "metadata": {},
   "outputs": [],
   "source": []
  },
  {
   "cell_type": "code",
   "execution_count": null,
   "id": "f5a24236",
   "metadata": {},
   "outputs": [],
   "source": []
  },
  {
   "cell_type": "code",
   "execution_count": null,
   "id": "fd61d134",
   "metadata": {},
   "outputs": [],
   "source": []
  },
  {
   "cell_type": "markdown",
   "id": "29e0b700",
   "metadata": {},
   "source": [
    "# Learning & Reflection"
   ]
  },
  {
   "cell_type": "code",
   "execution_count": null,
   "id": "5c105b00",
   "metadata": {},
   "outputs": [],
   "source": []
  },
  {
   "cell_type": "code",
   "execution_count": null,
   "id": "8da497aa",
   "metadata": {},
   "outputs": [],
   "source": []
  },
  {
   "cell_type": "code",
   "execution_count": null,
   "id": "591ac2ae",
   "metadata": {},
   "outputs": [],
   "source": []
  },
  {
   "cell_type": "code",
   "execution_count": null,
   "id": "108993d2",
   "metadata": {},
   "outputs": [],
   "source": []
  }
 ],
 "metadata": {
  "kernelspec": {
   "display_name": "Python 3 (ipykernel)",
   "language": "python",
   "name": "python3"
  },
  "language_info": {
   "codemirror_mode": {
    "name": "ipython",
    "version": 3
   },
   "file_extension": ".py",
   "mimetype": "text/x-python",
   "name": "python",
   "nbconvert_exporter": "python",
   "pygments_lexer": "ipython3",
   "version": "3.9.19"
  },
  "toc": {
   "base_numbering": 1,
   "nav_menu": {
    "height": "102px",
    "width": "161px"
   },
   "number_sections": true,
   "sideBar": true,
   "skip_h1_title": false,
   "title_cell": "Table of Contents",
   "title_sidebar": "Contents",
   "toc_cell": false,
   "toc_position": {},
   "toc_section_display": true,
   "toc_window_display": false
  }
 },
 "nbformat": 4,
 "nbformat_minor": 5
}
