{
 "cells": [
  {
   "cell_type": "code",
   "execution_count": 10,
   "id": "cd7005b8",
   "metadata": {},
   "outputs": [
    {
     "data": {
      "text/plain": [
       "'./data\\\\product_sales_2023.csv'"
      ]
     },
     "execution_count": 10,
     "metadata": {},
     "output_type": "execute_result"
    }
   ],
   "source": [
    "# import necessary libraries\n",
    "import pandas as pd\n",
    "import numpy as np\n",
    "\n",
    "# set random seed, any number is fine but it's not true random\n",
    "np.random.seed(42)\n",
    "\n",
    "#1\n",
    "dates = pd.date_range(start = '2023-01-01', end='2023-12-31', freq = 'D')\n",
    "n = len(dates)\n",
    "\n",
    "# Simulate sales data\n",
    "data = pd.DataFrame({\n",
    "    'date':dates,\n",
    "    'region':np.random.choice(['North', 'South','East', 'West'], n),\n",
    "    'customer_type': np.random.choice(['New', 'Returning'], n),\n",
    "    'units_sold': np.random.poisson(lam = 20, size=n),\n",
    "    'price_per_unit': np.random.normal(loc=50, scale=5, size=n)\n",
    "})\n",
    "\n",
    "# Simulate a drop in Q4 (Oct-Dec)\n",
    "q4_mask = data['date'].dt.month >= 10\n",
    "data.loc[q4_mask, 'units_sold'] = data.loc[q4_mask, 'units_sold'] * np.random.uniform(0.4, 0.7, size=q4_mask.sum())\n",
    "data['units_sold'] = data['units_sold'].astype(int)\n",
    "\n",
    "# Calculate total revenue\n",
    "data['revenue'] = data['units_sold'] * data['price_per_unit']\n",
    "\n",
    "# Save to CSV\n",
    "import os\n",
    "# Define the folder path\n",
    "folder_path = \"./data\"\n",
    "\n",
    "# Create the folder if it doesn't exist\n",
    "os.makedirs(folder_path, exist_ok=True)\n",
    "\n",
    "csv_path = os.path.join(folder_path, \"product_sales_2023.csv\")\n",
    "data.to_csv(csv_path, index=False)\n",
    "\n",
    "csv_path"
   ]
  },
  {
   "cell_type": "markdown",
   "id": "1f4beb55",
   "metadata": {},
   "source": [
    "```python\n",
    "pd.date_range(freq = 'D')\n",
    "```\n",
    "  \n",
    "#1:  \n",
    "'D' indicates calendar day frequency\n",
    "https://pandas.pydata.org/docs/user_guide/timeseries.html#timeseries-offset-aliases\n"
   ]
  }
 ],
 "metadata": {
  "kernelspec": {
   "display_name": "Python 3 (ipykernel)",
   "language": "python",
   "name": "python3"
  },
  "language_info": {
   "codemirror_mode": {
    "name": "ipython",
    "version": 3
   },
   "file_extension": ".py",
   "mimetype": "text/x-python",
   "name": "python",
   "nbconvert_exporter": "python",
   "pygments_lexer": "ipython3",
   "version": "3.9.19"
  },
  "toc": {
   "base_numbering": 1,
   "nav_menu": {},
   "number_sections": true,
   "sideBar": true,
   "skip_h1_title": false,
   "title_cell": "Table of Contents",
   "title_sidebar": "Contents",
   "toc_cell": false,
   "toc_position": {},
   "toc_section_display": true,
   "toc_window_display": false
  }
 },
 "nbformat": 4,
 "nbformat_minor": 5
}
